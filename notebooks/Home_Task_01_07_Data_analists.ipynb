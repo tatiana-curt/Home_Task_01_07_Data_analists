{
 "cells": [
  {
   "cell_type": "code",
   "execution_count": 1,
   "metadata": {},
   "outputs": [],
   "source": [
    "import pandas as pd"
   ]
  },
  {
   "cell_type": "code",
   "execution_count": 120,
   "metadata": {},
   "outputs": [],
   "source": [
    "data_year = range(1880,2019)\n",
    "df_res = pd.DataFrame()\n",
    "\n",
    "for data in data_year:\n",
    "    df_names = pd.read_csv(r'''C:\\Users\\tatia\\dev\\Home_Task_01_07_Data_analists\\names\\yob{}.txt'''.format(data), names=['name', 'gender', 'count'])\n",
    "    df_names['year'] = data\n",
    "    df_res = pd.concat([df_res, df_names])"
   ]
  },
  {
   "cell_type": "code",
   "execution_count": 74,
   "metadata": {},
   "outputs": [],
   "source": [
    "def top3(years):\n",
    "    top3 = df_res.loc[df_res['year'].isin(years)]\n",
    "    top3 = top3.sort_values('count', ascending=False).head(3)\n",
    "    print(list(top3['name']))   "
   ]
  },
  {
   "cell_type": "code",
   "execution_count": 78,
   "metadata": {},
   "outputs": [
    {
     "name": "stdout",
     "output_type": "stream",
     "text": [
      "['James', 'Robert', 'Linda']\n",
      "['John', 'William', 'Mary']\n"
     ]
    }
   ],
   "source": [
    "top3([1900, 1950, 2000])\n",
    "top3([1880])"
   ]
  },
  {
   "cell_type": "code",
   "execution_count": 121,
   "metadata": {},
   "outputs": [],
   "source": [
    "def dynamic(years):\n",
    "    dynamic = df_res.loc[df_res['year'].isin(years)]\n",
    "    dynamic = dynamic.groupby(['gender', 'year']).sum()\n",
    "    dynamic = dynamic.unstack('gender')    \n",
    "    dynamic_dict = {}\n",
    "    dynamic_dict['F'] = list(dynamic['count']['F'])\n",
    "    dynamic_dict['M'] = list(dynamic['count']['F'])\n",
    "    print(dynamic_dict)          "
   ]
  },
  {
   "cell_type": "code",
   "execution_count": 122,
   "metadata": {},
   "outputs": [
    {
     "name": "stdout",
     "output_type": "stream",
     "text": [
      "{'F': [299798, 1713065, 1815295], 'M': [299798, 1713065, 1815295]}\n"
     ]
    }
   ],
   "source": [
    "dynamic([1900, 1950, 2000])"
   ]
  },
  {
   "cell_type": "code",
   "execution_count": null,
   "metadata": {},
   "outputs": [],
   "source": []
  }
 ],
 "metadata": {
  "kernelspec": {
   "display_name": "Python 3",
   "language": "python",
   "name": "python3"
  },
  "language_info": {
   "codemirror_mode": {
    "name": "ipython",
    "version": 3
   },
   "file_extension": ".py",
   "mimetype": "text/x-python",
   "name": "python",
   "nbconvert_exporter": "python",
   "pygments_lexer": "ipython3",
   "version": "3.7.3"
  }
 },
 "nbformat": 4,
 "nbformat_minor": 2
}
